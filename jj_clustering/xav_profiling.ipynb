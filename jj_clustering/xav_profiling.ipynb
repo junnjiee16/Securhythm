{
 "cells": [
  {
   "cell_type": "code",
   "execution_count": 1,
   "metadata": {},
   "outputs": [],
   "source": [
    "import pandas as pd\n",
    "import numpy as np\n",
    "import matplotlib.pyplot as plt\n",
    "import seaborn as sns\n",
    "from sklearn.cluster import KMeans\n",
    "import warnings\n",
    "warnings.filterwarnings('ignore')"
   ]
  },
  {
   "cell_type": "markdown",
   "metadata": {},
   "source": [
    "# Import Datasets"
   ]
  },
  {
   "cell_type": "code",
   "execution_count": 2,
   "metadata": {},
   "outputs": [],
   "source": [
    "train1 = pd.read_csv('data/xav_train1.csv')\n",
    "train2 = pd.read_csv('data/xav_train2.csv')\n",
    "train3 = pd.read_csv('data/xav_train3.csv')\n",
    "train4 = pd.read_csv('data/xav_test1.csv')\n",
    "test1 = pd.read_csv('data/Joel.csv')"
   ]
  },
  {
   "cell_type": "markdown",
   "metadata": {},
   "source": [
    "# Cleaner Function"
   ]
  },
  {
   "cell_type": "code",
   "execution_count": 3,
   "metadata": {},
   "outputs": [],
   "source": [
    "def data_cleaner(df):\n",
    "    # create 2 copies to reshape the data\n",
    "    df1 = df.copy()\n",
    "    df2 = df.copy()\n",
    "\n",
    "    # drop interval column in df1, key hold duration in df2\n",
    "    df1.drop(['interval'], axis=1, inplace=True)\n",
    "    df1.drop(['key_hold_duration'], axis=1, inplace=True)\n",
    "    df2.drop(['key_hold_duration'], axis=1, inplace=True)\n",
    "\n",
    "    # drop first row in df1 and last row in df2\n",
    "    df1 = df1.drop(df1.index[-1]).reset_index(drop=True)\n",
    "    df2 = df2.drop(df2.index[0]).reset_index(drop=True)\n",
    "\n",
    "    # rename the columns \n",
    "    df1.columns = ['word1']\n",
    "    df2.columns = ['word2', 'interval']\n",
    "\n",
    "    # change interval to integer\n",
    "    df2['interval'] = abs(df2['interval'].astype(int))\n",
    "\n",
    "    # merge the two dataframes\n",
    "    df3 = pd.merge(df1, df2, left_index=True, right_index=True)\n",
    "    df3['word_combo'] = df3['word1'].astype(str) + ',' + df3['word2'].astype(str)\n",
    "    df3.drop(['word1', 'word2'], axis=1, inplace=True)\n",
    "    df4 = df3.copy()\n",
    "\n",
    "    # if multiple of same word combo exists take the average interval\n",
    "    df4 = df4.groupby('word_combo').mean().reset_index()\n",
    "\n",
    "    return df4"
   ]
  },
  {
   "cell_type": "markdown",
   "metadata": {},
   "source": [
    "# Clean All Data"
   ]
  },
  {
   "cell_type": "code",
   "execution_count": 4,
   "metadata": {},
   "outputs": [],
   "source": [
    "# clean all datasets\n",
    "final_train1 = data_cleaner(train1)\n",
    "final_train2 = data_cleaner(train2)\n",
    "final_train3 = data_cleaner(train3)\n",
    "final_train4 = data_cleaner(train4)\n",
    "final_test = data_cleaner(test1)"
   ]
  },
  {
   "cell_type": "code",
   "execution_count": 5,
   "metadata": {},
   "outputs": [
    {
     "data": {
      "text/html": [
       "<div>\n",
       "<style scoped>\n",
       "    .dataframe tbody tr th:only-of-type {\n",
       "        vertical-align: middle;\n",
       "    }\n",
       "\n",
       "    .dataframe tbody tr th {\n",
       "        vertical-align: top;\n",
       "    }\n",
       "\n",
       "    .dataframe thead th {\n",
       "        text-align: right;\n",
       "    }\n",
       "</style>\n",
       "<table border=\"1\" class=\"dataframe\">\n",
       "  <thead>\n",
       "    <tr style=\"text-align: right;\">\n",
       "      <th></th>\n",
       "      <th>word_combo</th>\n",
       "      <th>interval</th>\n",
       "    </tr>\n",
       "  </thead>\n",
       "  <tbody>\n",
       "    <tr>\n",
       "      <th>0</th>\n",
       "      <td>186,8</td>\n",
       "      <td>438.000000</td>\n",
       "    </tr>\n",
       "    <tr>\n",
       "      <th>1</th>\n",
       "      <td>186,84</td>\n",
       "      <td>70.000000</td>\n",
       "    </tr>\n",
       "    <tr>\n",
       "      <th>2</th>\n",
       "      <td>188,188</td>\n",
       "      <td>43.500000</td>\n",
       "    </tr>\n",
       "    <tr>\n",
       "      <th>3</th>\n",
       "      <td>188,32</td>\n",
       "      <td>114.450000</td>\n",
       "    </tr>\n",
       "    <tr>\n",
       "      <th>4</th>\n",
       "      <td>188,8</td>\n",
       "      <td>267.166667</td>\n",
       "    </tr>\n",
       "    <tr>\n",
       "      <th>...</th>\n",
       "      <td>...</td>\n",
       "      <td>...</td>\n",
       "    </tr>\n",
       "    <tr>\n",
       "      <th>326</th>\n",
       "      <td>89,190</td>\n",
       "      <td>78.000000</td>\n",
       "    </tr>\n",
       "    <tr>\n",
       "      <th>327</th>\n",
       "      <td>89,32</td>\n",
       "      <td>80.875000</td>\n",
       "    </tr>\n",
       "    <tr>\n",
       "      <th>328</th>\n",
       "      <td>89,68</td>\n",
       "      <td>217.500000</td>\n",
       "    </tr>\n",
       "    <tr>\n",
       "      <th>329</th>\n",
       "      <td>89,72</td>\n",
       "      <td>147.500000</td>\n",
       "    </tr>\n",
       "    <tr>\n",
       "      <th>330</th>\n",
       "      <td>89,8</td>\n",
       "      <td>250.000000</td>\n",
       "    </tr>\n",
       "  </tbody>\n",
       "</table>\n",
       "<p>331 rows × 2 columns</p>\n",
       "</div>"
      ],
      "text/plain": [
       "    word_combo    interval\n",
       "0        186,8  438.000000\n",
       "1       186,84   70.000000\n",
       "2      188,188   43.500000\n",
       "3       188,32  114.450000\n",
       "4        188,8  267.166667\n",
       "..         ...         ...\n",
       "326     89,190   78.000000\n",
       "327      89,32   80.875000\n",
       "328      89,68  217.500000\n",
       "329      89,72  147.500000\n",
       "330       89,8  250.000000\n",
       "\n",
       "[331 rows x 2 columns]"
      ]
     },
     "metadata": {},
     "output_type": "display_data"
    }
   ],
   "source": [
    "# combine all training data\n",
    "# final_train = pd.concat([final_train1, final_train2, final_train3], ignore_index=True)\n",
    "final_train = pd.concat([final_train1, final_train2, final_train3, final_train4], ignore_index=True)\n",
    "final_train = final_train.groupby('word_combo').mean().reset_index()\n",
    "\n",
    "display(final_train)"
   ]
  },
  {
   "cell_type": "code",
   "execution_count": 6,
   "metadata": {},
   "outputs": [
    {
     "data": {
      "text/html": [
       "<div>\n",
       "<style scoped>\n",
       "    .dataframe tbody tr th:only-of-type {\n",
       "        vertical-align: middle;\n",
       "    }\n",
       "\n",
       "    .dataframe tbody tr th {\n",
       "        vertical-align: top;\n",
       "    }\n",
       "\n",
       "    .dataframe thead th {\n",
       "        text-align: right;\n",
       "    }\n",
       "</style>\n",
       "<table border=\"1\" class=\"dataframe\">\n",
       "  <thead>\n",
       "    <tr style=\"text-align: right;\">\n",
       "      <th></th>\n",
       "      <th>word_combo</th>\n",
       "      <th>interval</th>\n",
       "    </tr>\n",
       "  </thead>\n",
       "  <tbody>\n",
       "    <tr>\n",
       "      <th>0</th>\n",
       "      <td>186,8</td>\n",
       "      <td>397.000000</td>\n",
       "    </tr>\n",
       "    <tr>\n",
       "      <th>1</th>\n",
       "      <td>188,32</td>\n",
       "      <td>317.500000</td>\n",
       "    </tr>\n",
       "    <tr>\n",
       "      <th>2</th>\n",
       "      <td>188,8</td>\n",
       "      <td>568.000000</td>\n",
       "    </tr>\n",
       "    <tr>\n",
       "      <th>3</th>\n",
       "      <td>190,32</td>\n",
       "      <td>342.285714</td>\n",
       "    </tr>\n",
       "    <tr>\n",
       "      <th>4</th>\n",
       "      <td>222,84</td>\n",
       "      <td>186.500000</td>\n",
       "    </tr>\n",
       "    <tr>\n",
       "      <th>...</th>\n",
       "      <td>...</td>\n",
       "      <td>...</td>\n",
       "    </tr>\n",
       "    <tr>\n",
       "      <th>201</th>\n",
       "      <td>87,72</td>\n",
       "      <td>383.000000</td>\n",
       "    </tr>\n",
       "    <tr>\n",
       "      <th>202</th>\n",
       "      <td>87,73</td>\n",
       "      <td>114.000000</td>\n",
       "    </tr>\n",
       "    <tr>\n",
       "      <th>203</th>\n",
       "      <td>87,76</td>\n",
       "      <td>81.000000</td>\n",
       "    </tr>\n",
       "    <tr>\n",
       "      <th>204</th>\n",
       "      <td>89,32</td>\n",
       "      <td>162.666667</td>\n",
       "    </tr>\n",
       "    <tr>\n",
       "      <th>205</th>\n",
       "      <td>89,69</td>\n",
       "      <td>69.000000</td>\n",
       "    </tr>\n",
       "  </tbody>\n",
       "</table>\n",
       "<p>206 rows × 2 columns</p>\n",
       "</div>"
      ],
      "text/plain": [
       "    word_combo    interval\n",
       "0        186,8  397.000000\n",
       "1       188,32  317.500000\n",
       "2        188,8  568.000000\n",
       "3       190,32  342.285714\n",
       "4       222,84  186.500000\n",
       "..         ...         ...\n",
       "201      87,72  383.000000\n",
       "202      87,73  114.000000\n",
       "203      87,76   81.000000\n",
       "204      89,32  162.666667\n",
       "205      89,69   69.000000\n",
       "\n",
       "[206 rows x 2 columns]"
      ]
     },
     "metadata": {},
     "output_type": "display_data"
    }
   ],
   "source": [
    "# combine all test data\n",
    "# final_test = pd.concat([final_test1, final_test2], ignore_index=True)\n",
    "# final_test = final_test.groupby('word_combo').mean().reset_index()\n",
    "display(final_test)"
   ]
  },
  {
   "cell_type": "markdown",
   "metadata": {},
   "source": [
    "# Cluster Data"
   ]
  },
  {
   "cell_type": "code",
   "execution_count": 7,
   "metadata": {},
   "outputs": [],
   "source": [
    "kmeans_train = KMeans(n_clusters=3, random_state=0).fit(final_train[['interval']])\n",
    "final_train['cluster'] = kmeans_train.labels_\n",
    "train_centroids = kmeans_train.cluster_centers_"
   ]
  },
  {
   "cell_type": "code",
   "execution_count": 8,
   "metadata": {},
   "outputs": [
    {
     "data": {
      "image/png": "[encoded data removed]",
      "text/plain": [
       "<Figure size 432x288 with 1 Axes>"
      ]
     },
     "metadata": {
      "needs_background": "light"
     },
     "output_type": "display_data"
    }
   ],
   "source": [
    "# boxplot with clusters\n",
    "sns.boxplot(x='cluster', y='interval', data=final_train)\n",
    "plt.show()"
   ]
  },
  {
   "cell_type": "code",
   "execution_count": 9,
   "metadata": {},
   "outputs": [],
   "source": [
    "kmeans_test = KMeans(n_clusters=3, random_state=0, init=train_centroids).fit(final_test[['interval']])\n",
    "final_test['cluster'] = kmeans_test.labels_\n",
    "train_centroids = kmeans_test.cluster_centers_"
   ]
  },
  {
   "cell_type": "code",
   "execution_count": 10,
   "metadata": {},
   "outputs": [
    {
     "data": {
      "image/png": "[encoded data removed]",
      "text/plain": [
       "<Figure size 432x288 with 1 Axes>"
      ]
     },
     "metadata": {
      "needs_background": "light"
     },
     "output_type": "display_data"
    }
   ],
   "source": [
    "# boxplot with clusters\n",
    "sns.boxplot(x='cluster', y='interval', data=final_test)\n",
    "plt.show()"
   ]
  },
  {
   "cell_type": "code",
   "execution_count": 11,
   "metadata": {},
   "outputs": [
    {
     "data": {
      "text/html": [
       "<div>\n",
       "<style scoped>\n",
       "    .dataframe tbody tr th:only-of-type {\n",
       "        vertical-align: middle;\n",
       "    }\n",
       "\n",
       "    .dataframe tbody tr th {\n",
       "        vertical-align: top;\n",
       "    }\n",
       "\n",
       "    .dataframe thead th {\n",
       "        text-align: right;\n",
       "    }\n",
       "</style>\n",
       "<table border=\"1\" class=\"dataframe\">\n",
       "  <thead>\n",
       "    <tr style=\"text-align: right;\">\n",
       "      <th></th>\n",
       "      <th>word_combo</th>\n",
       "      <th>interval_x</th>\n",
       "      <th>cluster_x</th>\n",
       "      <th>interval_y</th>\n",
       "      <th>cluster_y</th>\n",
       "    </tr>\n",
       "  </thead>\n",
       "  <tbody>\n",
       "    <tr>\n",
       "      <th>0</th>\n",
       "      <td>186,8</td>\n",
       "      <td>438.000000</td>\n",
       "      <td>2</td>\n",
       "      <td>397.000000</td>\n",
       "      <td>1</td>\n",
       "    </tr>\n",
       "    <tr>\n",
       "      <th>1</th>\n",
       "      <td>188,32</td>\n",
       "      <td>114.450000</td>\n",
       "      <td>1</td>\n",
       "      <td>317.500000</td>\n",
       "      <td>1</td>\n",
       "    </tr>\n",
       "    <tr>\n",
       "      <th>2</th>\n",
       "      <td>188,8</td>\n",
       "      <td>267.166667</td>\n",
       "      <td>2</td>\n",
       "      <td>568.000000</td>\n",
       "      <td>2</td>\n",
       "    </tr>\n",
       "    <tr>\n",
       "      <th>3</th>\n",
       "      <td>190,32</td>\n",
       "      <td>112.285714</td>\n",
       "      <td>1</td>\n",
       "      <td>342.285714</td>\n",
       "      <td>1</td>\n",
       "    </tr>\n",
       "    <tr>\n",
       "      <th>4</th>\n",
       "      <td>222,84</td>\n",
       "      <td>109.000000</td>\n",
       "      <td>0</td>\n",
       "      <td>186.500000</td>\n",
       "      <td>0</td>\n",
       "    </tr>\n",
       "    <tr>\n",
       "      <th>...</th>\n",
       "      <td>...</td>\n",
       "      <td>...</td>\n",
       "      <td>...</td>\n",
       "      <td>...</td>\n",
       "      <td>...</td>\n",
       "    </tr>\n",
       "    <tr>\n",
       "      <th>168</th>\n",
       "      <td>87,65</td>\n",
       "      <td>58.833333</td>\n",
       "      <td>0</td>\n",
       "      <td>328.000000</td>\n",
       "      <td>1</td>\n",
       "    </tr>\n",
       "    <tr>\n",
       "      <th>169</th>\n",
       "      <td>87,69</td>\n",
       "      <td>90.250000</td>\n",
       "      <td>0</td>\n",
       "      <td>590.000000</td>\n",
       "      <td>2</td>\n",
       "    </tr>\n",
       "    <tr>\n",
       "      <th>170</th>\n",
       "      <td>87,72</td>\n",
       "      <td>126.250000</td>\n",
       "      <td>1</td>\n",
       "      <td>383.000000</td>\n",
       "      <td>1</td>\n",
       "    </tr>\n",
       "    <tr>\n",
       "      <th>171</th>\n",
       "      <td>87,73</td>\n",
       "      <td>78.666667</td>\n",
       "      <td>0</td>\n",
       "      <td>114.000000</td>\n",
       "      <td>0</td>\n",
       "    </tr>\n",
       "    <tr>\n",
       "      <th>172</th>\n",
       "      <td>89,32</td>\n",
       "      <td>80.875000</td>\n",
       "      <td>0</td>\n",
       "      <td>162.666667</td>\n",
       "      <td>0</td>\n",
       "    </tr>\n",
       "  </tbody>\n",
       "</table>\n",
       "<p>173 rows × 5 columns</p>\n",
       "</div>"
      ],
      "text/plain": [
       "    word_combo  interval_x  cluster_x  interval_y  cluster_y\n",
       "0        186,8  438.000000          2  397.000000          1\n",
       "1       188,32  114.450000          1  317.500000          1\n",
       "2        188,8  267.166667          2  568.000000          2\n",
       "3       190,32  112.285714          1  342.285714          1\n",
       "4       222,84  109.000000          0  186.500000          0\n",
       "..         ...         ...        ...         ...        ...\n",
       "168      87,65   58.833333          0  328.000000          1\n",
       "169      87,69   90.250000          0  590.000000          2\n",
       "170      87,72  126.250000          1  383.000000          1\n",
       "171      87,73   78.666667          0  114.000000          0\n",
       "172      89,32   80.875000          0  162.666667          0\n",
       "\n",
       "[173 rows x 5 columns]"
      ]
     },
     "metadata": {},
     "output_type": "display_data"
    }
   ],
   "source": [
    "# innerjoin the two datasets\n",
    "final = pd.merge(final_train, final_test, on='word_combo', how='inner')\n",
    "display(final)"
   ]
  },
  {
   "cell_type": "markdown",
   "metadata": {},
   "source": [
    "# Accuracy"
   ]
  },
  {
   "cell_type": "code",
   "execution_count": 12,
   "metadata": {},
   "outputs": [
    {
     "data": {
      "text/plain": [
       "0.5549132947976878"
      ]
     },
     "execution_count": 12,
     "metadata": {},
     "output_type": "execute_result"
    }
   ],
   "source": [
    "correct = 0\n",
    "for i in range(len(final)):\n",
    "    if final['cluster_x'][i] == final['cluster_y'][i]:\n",
    "        correct += 1\n",
    "\n",
    "correct / len(final)"
   ]
  }
 ],
 "metadata": {
  "kernelspec": {
   "display_name": "Python 3.9.4 64-bit",
   "language": "python",
   "name": "python3"
  },
  "language_info": {
   "codemirror_mode": {
    "name": "ipython",
    "version": 3
   },
   "file_extension": ".py",
   "mimetype": "text/x-python",
   "name": "python",
   "nbconvert_exporter": "python",
   "pygments_lexer": "ipython3",
   "version": "3.9.4"
  },
  "orig_nbformat": 4,
  "vscode": {
   "interpreter": {
    "hash": "11938c6bc6919ae2720b4d5011047913343b08a43b18698fd82dedb0d4417594"
   }
  }
 },
 "nbformat": 4,
 "nbformat_minor": 2
}
