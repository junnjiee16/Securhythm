{
 "cells": [
  {
   "cell_type": "code",
   "execution_count": 33,
   "metadata": {},
   "outputs": [],
   "source": [
    "import pandas as pd\n",
    "import numpy as np\n",
    "import matplotlib.pyplot as plt\n",
    "import seaborn as sns\n",
    "from sklearn.cluster import KMeans\n",
    "import warnings\n",
    "warnings.filterwarnings('ignore')"
   ]
  },
  {
   "cell_type": "markdown",
   "metadata": {},
   "source": [
    "# Import Datasets"
   ]
  },
  {
   "cell_type": "code",
   "execution_count": 34,
   "metadata": {},
   "outputs": [],
   "source": [
    "train1 = pd.read_csv('data/xav_train1.csv')\n",
    "train2 = pd.read_csv('data/xav_train2.csv')\n",
    "train3 = pd.read_csv('data/xav_train3.csv')\n",
    "test1 = pd.read_csv('data/xav_test1.csv')\n",
    "test2 = pd.read_csv('data/xav_test2.csv')"
   ]
  },
  {
   "cell_type": "markdown",
   "metadata": {},
   "source": [
    "# Cleaner Function"
   ]
  },
  {
   "cell_type": "code",
   "execution_count": 35,
   "metadata": {},
   "outputs": [],
   "source": [
    "def data_cleaner(df):\n",
    "    # create 2 copies to reshape the data\n",
    "    df1 = df.copy()\n",
    "    df2 = df.copy()\n",
    "\n",
    "    # drop interval column in df1, key hold duration in df2\n",
    "    df1.drop(['interval'], axis=1, inplace=True)\n",
    "    df1.drop(['key_hold_duration'], axis=1, inplace=True)\n",
    "    df2.drop(['key_hold_duration'], axis=1, inplace=True)\n",
    "\n",
    "    # drop first row in df1 and last row in df2\n",
    "    df1 = df1.drop(df1.index[-1]).reset_index(drop=True)\n",
    "    df2 = df2.drop(df2.index[0]).reset_index(drop=True)\n",
    "\n",
    "    # rename the columns \n",
    "    df1.columns = ['word1']\n",
    "    df2.columns = ['word2', 'interval']\n",
    "\n",
    "    # change interval to integer\n",
    "    df2['interval'] = abs(df2['interval'].astype(int))\n",
    "\n",
    "    # merge the two dataframes\n",
    "    df3 = pd.merge(df1, df2, left_index=True, right_index=True)\n",
    "    df3['word_combo'] = df3['word1'].astype(str) + ',' + df3['word2'].astype(str)\n",
    "    df3.drop(['word1', 'word2'], axis=1, inplace=True)\n",
    "    df4 = df3.copy()\n",
    "\n",
    "    # if multiple of same word combo exists take the average interval\n",
    "    df4 = df4.groupby('word_combo').mean().reset_index()\n",
    "\n",
    "    return df4"
   ]
  },
  {
   "cell_type": "markdown",
   "metadata": {},
   "source": [
    "# Clean All Data"
   ]
  },
  {
   "cell_type": "code",
   "execution_count": 36,
   "metadata": {},
   "outputs": [],
   "source": [
    "# clean all datasets\n",
    "final_train1 = data_cleaner(train1)\n",
    "final_train2 = data_cleaner(train2)\n",
    "final_train3 = data_cleaner(train3)\n",
    "final_test1 = data_cleaner(test1)\n",
    "final_test2 = data_cleaner(test2)"
   ]
  },
  {
   "cell_type": "code",
   "execution_count": 37,
   "metadata": {},
   "outputs": [
    {
     "data": {
      "text/html": [
       "<div>\n",
       "<style scoped>\n",
       "    .dataframe tbody tr th:only-of-type {\n",
       "        vertical-align: middle;\n",
       "    }\n",
       "\n",
       "    .dataframe tbody tr th {\n",
       "        vertical-align: top;\n",
       "    }\n",
       "\n",
       "    .dataframe thead th {\n",
       "        text-align: right;\n",
       "    }\n",
       "</style>\n",
       "<table border=\"1\" class=\"dataframe\">\n",
       "  <thead>\n",
       "    <tr style=\"text-align: right;\">\n",
       "      <th></th>\n",
       "      <th>word_combo</th>\n",
       "      <th>interval</th>\n",
       "    </tr>\n",
       "  </thead>\n",
       "  <tbody>\n",
       "    <tr>\n",
       "      <th>0</th>\n",
       "      <td>186,8</td>\n",
       "      <td>438.00</td>\n",
       "    </tr>\n",
       "    <tr>\n",
       "      <th>1</th>\n",
       "      <td>186,84</td>\n",
       "      <td>70.00</td>\n",
       "    </tr>\n",
       "    <tr>\n",
       "      <th>2</th>\n",
       "      <td>188,188</td>\n",
       "      <td>43.50</td>\n",
       "    </tr>\n",
       "    <tr>\n",
       "      <th>3</th>\n",
       "      <td>188,32</td>\n",
       "      <td>113.20</td>\n",
       "    </tr>\n",
       "    <tr>\n",
       "      <th>4</th>\n",
       "      <td>188,8</td>\n",
       "      <td>285.75</td>\n",
       "    </tr>\n",
       "    <tr>\n",
       "      <th>...</th>\n",
       "      <td>...</td>\n",
       "      <td>...</td>\n",
       "    </tr>\n",
       "    <tr>\n",
       "      <th>317</th>\n",
       "      <td>89,188</td>\n",
       "      <td>80.00</td>\n",
       "    </tr>\n",
       "    <tr>\n",
       "      <th>318</th>\n",
       "      <td>89,190</td>\n",
       "      <td>78.00</td>\n",
       "    </tr>\n",
       "    <tr>\n",
       "      <th>319</th>\n",
       "      <td>89,32</td>\n",
       "      <td>87.50</td>\n",
       "    </tr>\n",
       "    <tr>\n",
       "      <th>320</th>\n",
       "      <td>89,68</td>\n",
       "      <td>266.00</td>\n",
       "    </tr>\n",
       "    <tr>\n",
       "      <th>321</th>\n",
       "      <td>89,72</td>\n",
       "      <td>183.00</td>\n",
       "    </tr>\n",
       "  </tbody>\n",
       "</table>\n",
       "<p>322 rows × 2 columns</p>\n",
       "</div>"
      ],
      "text/plain": [
       "    word_combo  interval\n",
       "0        186,8    438.00\n",
       "1       186,84     70.00\n",
       "2      188,188     43.50\n",
       "3       188,32    113.20\n",
       "4        188,8    285.75\n",
       "..         ...       ...\n",
       "317     89,188     80.00\n",
       "318     89,190     78.00\n",
       "319      89,32     87.50\n",
       "320      89,68    266.00\n",
       "321      89,72    183.00\n",
       "\n",
       "[322 rows x 2 columns]"
      ]
     },
     "metadata": {},
     "output_type": "display_data"
    }
   ],
   "source": [
    "# combine all training data\n",
    "final_train = pd.concat([final_train1, final_train2, final_train3], ignore_index=True)\n",
    "final_train = final_train.groupby('word_combo').mean().reset_index()\n",
    "\n",
    "display(final_train)"
   ]
  },
  {
   "cell_type": "code",
   "execution_count": 38,
   "metadata": {},
   "outputs": [
    {
     "data": {
      "text/html": [
       "<div>\n",
       "<style scoped>\n",
       "    .dataframe tbody tr th:only-of-type {\n",
       "        vertical-align: middle;\n",
       "    }\n",
       "\n",
       "    .dataframe tbody tr th {\n",
       "        vertical-align: top;\n",
       "    }\n",
       "\n",
       "    .dataframe thead th {\n",
       "        text-align: right;\n",
       "    }\n",
       "</style>\n",
       "<table border=\"1\" class=\"dataframe\">\n",
       "  <thead>\n",
       "    <tr style=\"text-align: right;\">\n",
       "      <th></th>\n",
       "      <th>word_combo</th>\n",
       "      <th>interval</th>\n",
       "    </tr>\n",
       "  </thead>\n",
       "  <tbody>\n",
       "    <tr>\n",
       "      <th>0</th>\n",
       "      <td>188,190</td>\n",
       "      <td>2.000000</td>\n",
       "    </tr>\n",
       "    <tr>\n",
       "      <th>1</th>\n",
       "      <td>188,32</td>\n",
       "      <td>121.933333</td>\n",
       "    </tr>\n",
       "    <tr>\n",
       "      <th>2</th>\n",
       "      <td>188,8</td>\n",
       "      <td>238.500000</td>\n",
       "    </tr>\n",
       "    <tr>\n",
       "      <th>3</th>\n",
       "      <td>190,32</td>\n",
       "      <td>112.333333</td>\n",
       "    </tr>\n",
       "    <tr>\n",
       "      <th>4</th>\n",
       "      <td>190,8</td>\n",
       "      <td>176.000000</td>\n",
       "    </tr>\n",
       "    <tr>\n",
       "      <th>...</th>\n",
       "      <td>...</td>\n",
       "      <td>...</td>\n",
       "    </tr>\n",
       "    <tr>\n",
       "      <th>267</th>\n",
       "      <td>89,32</td>\n",
       "      <td>62.100000</td>\n",
       "    </tr>\n",
       "    <tr>\n",
       "      <th>268</th>\n",
       "      <td>89,68</td>\n",
       "      <td>169.000000</td>\n",
       "    </tr>\n",
       "    <tr>\n",
       "      <th>269</th>\n",
       "      <td>89,72</td>\n",
       "      <td>112.000000</td>\n",
       "    </tr>\n",
       "    <tr>\n",
       "      <th>270</th>\n",
       "      <td>89,8</td>\n",
       "      <td>250.000000</td>\n",
       "    </tr>\n",
       "    <tr>\n",
       "      <th>271</th>\n",
       "      <td>89,84</td>\n",
       "      <td>202.000000</td>\n",
       "    </tr>\n",
       "  </tbody>\n",
       "</table>\n",
       "<p>272 rows × 2 columns</p>\n",
       "</div>"
      ],
      "text/plain": [
       "    word_combo    interval\n",
       "0      188,190    2.000000\n",
       "1       188,32  121.933333\n",
       "2        188,8  238.500000\n",
       "3       190,32  112.333333\n",
       "4        190,8  176.000000\n",
       "..         ...         ...\n",
       "267      89,32   62.100000\n",
       "268      89,68  169.000000\n",
       "269      89,72  112.000000\n",
       "270       89,8  250.000000\n",
       "271      89,84  202.000000\n",
       "\n",
       "[272 rows x 2 columns]"
      ]
     },
     "metadata": {},
     "output_type": "display_data"
    }
   ],
   "source": [
    "# combine all test data\n",
    "final_test = pd.concat([final_test1, final_test2], ignore_index=True)\n",
    "final_test = final_test.groupby('word_combo').mean().reset_index()\n",
    "\n",
    "display(final_test)"
   ]
  },
  {
   "cell_type": "markdown",
   "metadata": {},
   "source": [
    "# Cluster Data"
   ]
  },
  {
   "cell_type": "code",
   "execution_count": 39,
   "metadata": {},
   "outputs": [],
   "source": [
    "kmeans_train = KMeans(n_clusters=3, random_state=0).fit(final_train[['interval']])\n",
    "final_train['cluster'] = kmeans_train.labels_\n",
    "train_centroids = kmeans_train.cluster_centers_"
   ]
  },
  {
   "cell_type": "code",
   "execution_count": 40,
   "metadata": {},
   "outputs": [
    {
     "data": {
      "image/png": "[encoded data removed]",
      "text/plain": [
       "<Figure size 432x288 with 1 Axes>"
      ]
     },
     "metadata": {
      "needs_background": "light"
     },
     "output_type": "display_data"
    }
   ],
   "source": [
    "# boxplot with clusters\n",
    "sns.boxplot(x='cluster', y='interval', data=final_train)\n",
    "plt.show()"
   ]
  },
  {
   "cell_type": "code",
   "execution_count": 41,
   "metadata": {},
   "outputs": [],
   "source": [
    "kmeans_test = KMeans(n_clusters=3, random_state=0, init=train_centroids).fit(final_test[['interval']])\n",
    "final_test['cluster'] = kmeans_test.labels_\n",
    "train_centroids = kmeans_test.cluster_centers_"
   ]
  },
  {
   "cell_type": "code",
   "execution_count": 42,
   "metadata": {},
   "outputs": [
    {
     "data": {
      "image/png": "[encoded data removed]",
      "text/plain": [
       "<Figure size 432x288 with 1 Axes>"
      ]
     },
     "metadata": {
      "needs_background": "light"
     },
     "output_type": "display_data"
    }
   ],
   "source": [
    "# boxplot with clusters\n",
    "sns.boxplot(x='cluster', y='interval', data=final_test)\n",
    "plt.show()"
   ]
  },
  {
   "cell_type": "code",
   "execution_count": 43,
   "metadata": {},
   "outputs": [
    {
     "data": {
      "text/html": [
       "<div>\n",
       "<style scoped>\n",
       "    .dataframe tbody tr th:only-of-type {\n",
       "        vertical-align: middle;\n",
       "    }\n",
       "\n",
       "    .dataframe tbody tr th {\n",
       "        vertical-align: top;\n",
       "    }\n",
       "\n",
       "    .dataframe thead th {\n",
       "        text-align: right;\n",
       "    }\n",
       "</style>\n",
       "<table border=\"1\" class=\"dataframe\">\n",
       "  <thead>\n",
       "    <tr style=\"text-align: right;\">\n",
       "      <th></th>\n",
       "      <th>word_combo</th>\n",
       "      <th>interval_x</th>\n",
       "      <th>cluster_x</th>\n",
       "      <th>interval_y</th>\n",
       "      <th>cluster_y</th>\n",
       "    </tr>\n",
       "  </thead>\n",
       "  <tbody>\n",
       "    <tr>\n",
       "      <th>0</th>\n",
       "      <td>188,32</td>\n",
       "      <td>113.200000</td>\n",
       "      <td>1</td>\n",
       "      <td>121.933333</td>\n",
       "      <td>0</td>\n",
       "    </tr>\n",
       "    <tr>\n",
       "      <th>1</th>\n",
       "      <td>188,8</td>\n",
       "      <td>285.750000</td>\n",
       "      <td>2</td>\n",
       "      <td>238.500000</td>\n",
       "      <td>2</td>\n",
       "    </tr>\n",
       "    <tr>\n",
       "      <th>2</th>\n",
       "      <td>190,32</td>\n",
       "      <td>118.825397</td>\n",
       "      <td>0</td>\n",
       "      <td>112.333333</td>\n",
       "      <td>1</td>\n",
       "    </tr>\n",
       "    <tr>\n",
       "      <th>3</th>\n",
       "      <td>190,8</td>\n",
       "      <td>259.000000</td>\n",
       "      <td>2</td>\n",
       "      <td>176.000000</td>\n",
       "      <td>0</td>\n",
       "    </tr>\n",
       "    <tr>\n",
       "      <th>4</th>\n",
       "      <td>222,83</td>\n",
       "      <td>159.500000</td>\n",
       "      <td>0</td>\n",
       "      <td>93.000000</td>\n",
       "      <td>1</td>\n",
       "    </tr>\n",
       "    <tr>\n",
       "      <th>...</th>\n",
       "      <td>...</td>\n",
       "      <td>...</td>\n",
       "      <td>...</td>\n",
       "      <td>...</td>\n",
       "      <td>...</td>\n",
       "    </tr>\n",
       "    <tr>\n",
       "      <th>225</th>\n",
       "      <td>89,188</td>\n",
       "      <td>80.000000</td>\n",
       "      <td>1</td>\n",
       "      <td>76.000000</td>\n",
       "      <td>1</td>\n",
       "    </tr>\n",
       "    <tr>\n",
       "      <th>226</th>\n",
       "      <td>89,190</td>\n",
       "      <td>78.000000</td>\n",
       "      <td>1</td>\n",
       "      <td>76.000000</td>\n",
       "      <td>1</td>\n",
       "    </tr>\n",
       "    <tr>\n",
       "      <th>227</th>\n",
       "      <td>89,32</td>\n",
       "      <td>87.500000</td>\n",
       "      <td>1</td>\n",
       "      <td>62.100000</td>\n",
       "      <td>1</td>\n",
       "    </tr>\n",
       "    <tr>\n",
       "      <th>228</th>\n",
       "      <td>89,68</td>\n",
       "      <td>266.000000</td>\n",
       "      <td>2</td>\n",
       "      <td>169.000000</td>\n",
       "      <td>0</td>\n",
       "    </tr>\n",
       "    <tr>\n",
       "      <th>229</th>\n",
       "      <td>89,72</td>\n",
       "      <td>183.000000</td>\n",
       "      <td>0</td>\n",
       "      <td>112.000000</td>\n",
       "      <td>1</td>\n",
       "    </tr>\n",
       "  </tbody>\n",
       "</table>\n",
       "<p>230 rows × 5 columns</p>\n",
       "</div>"
      ],
      "text/plain": [
       "    word_combo  interval_x  cluster_x  interval_y  cluster_y\n",
       "0       188,32  113.200000          1  121.933333          0\n",
       "1        188,8  285.750000          2  238.500000          2\n",
       "2       190,32  118.825397          0  112.333333          1\n",
       "3        190,8  259.000000          2  176.000000          0\n",
       "4       222,83  159.500000          0   93.000000          1\n",
       "..         ...         ...        ...         ...        ...\n",
       "225     89,188   80.000000          1   76.000000          1\n",
       "226     89,190   78.000000          1   76.000000          1\n",
       "227      89,32   87.500000          1   62.100000          1\n",
       "228      89,68  266.000000          2  169.000000          0\n",
       "229      89,72  183.000000          0  112.000000          1\n",
       "\n",
       "[230 rows x 5 columns]"
      ]
     },
     "metadata": {},
     "output_type": "display_data"
    }
   ],
   "source": [
    "# innerjoin the two datasets\n",
    "final = pd.merge(final_train, final_test, on='word_combo', how='inner')\n",
    "display(final)"
   ]
  },
  {
   "cell_type": "markdown",
   "metadata": {},
   "source": [
    "# Accuracy"
   ]
  },
  {
   "cell_type": "code",
   "execution_count": 44,
   "metadata": {},
   "outputs": [
    {
     "data": {
      "text/plain": [
       "0.7521739130434782"
      ]
     },
     "execution_count": 44,
     "metadata": {},
     "output_type": "execute_result"
    }
   ],
   "source": [
    "correct = 0\n",
    "for i in range(len(final)):\n",
    "    if final['cluster_x'][i] == final['cluster_y'][i]:\n",
    "        correct += 1\n",
    "\n",
    "correct / len(final)"
   ]
  }
 ],
 "metadata": {
  "kernelspec": {
   "display_name": "Python 3.9.4 64-bit",
   "language": "python",
   "name": "python3"
  },
  "language_info": {
   "codemirror_mode": {
    "name": "ipython",
    "version": 3
   },
   "file_extension": ".py",
   "mimetype": "text/x-python",
   "name": "python",
   "nbconvert_exporter": "python",
   "pygments_lexer": "ipython3",
   "version": "3.9.4"
  },
  "orig_nbformat": 4,
  "vscode": {
   "interpreter": {
    "hash": "11938c6bc6919ae2720b4d5011047913343b08a43b18698fd82dedb0d4417594"
   }
  }
 },
 "nbformat": 4,
 "nbformat_minor": 2
}
